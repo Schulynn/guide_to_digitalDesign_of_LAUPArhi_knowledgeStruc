{
 "cells": [
  {
   "cell_type": "markdown",
   "id": "minus-frequency",
   "metadata": {},
   "source": [
    "> Created on Mon Mar  1 10:31:37 2021 @author: richie bao -workshop-LA-UP_IIT"
   ]
  },
  {
   "cell_type": "markdown",
   "id": "naughty-genealogy",
   "metadata": {},
   "source": [
    "## Composite network architecture: target accessibility of public transport system"
   ]
  },
  {
   "cell_type": "code",
   "execution_count": null,
   "id": "allied-serve",
   "metadata": {},
   "outputs": [],
   "source": []
  }
 ],
 "metadata": {
  "kernelspec": {
   "display_name": "Python 3",
   "language": "python",
   "name": "python3"
  },
  "language_info": {
   "codemirror_mode": {
    "name": "ipython",
    "version": 3
   },
   "file_extension": ".py",
   "mimetype": "text/x-python",
   "name": "python",
   "nbconvert_exporter": "python",
   "pygments_lexer": "ipython3",
   "version": "3.7.10"
  }
 },
 "nbformat": 4,
 "nbformat_minor": 5
}
